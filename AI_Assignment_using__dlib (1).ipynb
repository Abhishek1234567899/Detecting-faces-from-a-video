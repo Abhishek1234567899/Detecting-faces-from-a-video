{
  "nbformat": 4,
  "nbformat_minor": 0,
  "metadata": {
    "colab": {
      "provenance": []
    },
    "kernelspec": {
      "name": "python3",
      "display_name": "Python 3"
    },
    "language_info": {
      "name": "python"
    }
  },
  "cells": [
    {
      "cell_type": "markdown",
      "source": [
        "# Workflow\n",
        "\n",
        "Download: The video file is downloaded from Google Drive.\n",
        "\n",
        "Check: The program verifies the file exists.\n",
        "\n",
        "Open: The video is opened using OpenCV, and its properties like width, height, fps are extracted.\n",
        "\n",
        "Initialize: The output video writer is initialized.\n",
        "\n",
        "Face Detection: Using dlib’s face detector, faces are detected in every frame, and rectangles are drawn around detected faces.\n",
        "\n",
        "Save: The processed video is saved with the bounding boxes around faces.\n",
        "\n",
        "Release: Resources are released to avoid memory leaks.\n",
        "\n",
        "Download: The processed video is made available for download.\n"
      ],
      "metadata": {
        "id": "KJozcUuxTCXm"
      }
    },
    {
      "cell_type": "code",
      "source": [],
      "metadata": {
        "id": "qCp1E717TCE8"
      },
      "execution_count": null,
      "outputs": []
    },
    {
      "cell_type": "markdown",
      "source": [
        "# Setup and Install Dependencies"
      ],
      "metadata": {
        "id": "yM0m0IueBi0Z"
      }
    },
    {
      "cell_type": "code",
      "source": [
        "\n",
        "!pip install dlib\n",
        "!pip install opencv-python\n"
      ],
      "metadata": {
        "colab": {
          "base_uri": "https://localhost:8080/"
        },
        "id": "D1mGyLcFBk69",
        "outputId": "58a527d5-b280-41ea-daa5-0cee07be2a95"
      },
      "execution_count": 1,
      "outputs": [
        {
          "output_type": "stream",
          "name": "stdout",
          "text": [
            "Requirement already satisfied: dlib in /usr/local/lib/python3.10/dist-packages (19.24.2)\n",
            "Requirement already satisfied: opencv-python in /usr/local/lib/python3.10/dist-packages (4.10.0.84)\n",
            "Requirement already satisfied: numpy>=1.21.2 in /usr/local/lib/python3.10/dist-packages (from opencv-python) (1.26.4)\n"
          ]
        }
      ]
    },
    {
      "cell_type": "code",
      "source": [],
      "metadata": {
        "id": "b814ZQPkBmib"
      },
      "execution_count": 1,
      "outputs": []
    },
    {
      "cell_type": "code",
      "source": [],
      "metadata": {
        "id": "1Eqf8VigBogJ"
      },
      "execution_count": 2,
      "outputs": []
    },
    {
      "cell_type": "markdown",
      "source": [
        "# Upload the Video"
      ],
      "metadata": {
        "id": "qH0QLS3wBqPI"
      }
    },
    {
      "cell_type": "code",
      "source": [
        "# Download video using gdown\n",
        "!gdown --fuzzy https://drive.google.com/file/d/1nyeeqBJyDr2zphBDQ9ruh99JBdYm4nPH/view?usp=sharing --output test_video.mp4\n"
      ],
      "metadata": {
        "colab": {
          "base_uri": "https://localhost:8080/"
        },
        "id": "HyjxMYcWBtId",
        "outputId": "58292978-b376-4856-be59-26834614ea1a"
      },
      "execution_count": 3,
      "outputs": [
        {
          "output_type": "stream",
          "name": "stdout",
          "text": [
            "Downloading...\n",
            "From: https://drive.google.com/uc?id=1nyeeqBJyDr2zphBDQ9ruh99JBdYm4nPH\n",
            "To: /content/test_video.mp4\n",
            "\r  0% 0.00/7.54M [00:00<?, ?B/s]\r 90% 6.82M/7.54M [00:00<00:00, 68.0MB/s]\r100% 7.54M/7.54M [00:00<00:00, 72.7MB/s]\n"
          ]
        }
      ]
    },
    {
      "cell_type": "code",
      "source": [],
      "metadata": {
        "id": "U0iX9kT_BvTM"
      },
      "execution_count": 3,
      "outputs": []
    },
    {
      "cell_type": "markdown",
      "source": [
        " # Verify Video File Existence"
      ],
      "metadata": {
        "id": "mndFoSzfBxVu"
      }
    },
    {
      "cell_type": "code",
      "source": [
        "import os\n",
        "\n",
        "video_path = \"/content/test_video.mp4\"\n",
        "\n",
        "#  file exists or not cheak\n",
        "if os.path.exists(video_path):\n",
        "    print(f\"Video file {video_path} found.\")\n",
        "else:\n",
        "    print(f\"Error: Video file {video_path} not found.\")\n"
      ],
      "metadata": {
        "colab": {
          "base_uri": "https://localhost:8080/"
        },
        "id": "HFkjwwULBy0G",
        "outputId": "f24f5421-4a44-415e-901d-6bc0967184bb"
      },
      "execution_count": 4,
      "outputs": [
        {
          "output_type": "stream",
          "name": "stdout",
          "text": [
            "Video file /content/test_video.mp4 found.\n"
          ]
        }
      ]
    },
    {
      "cell_type": "code",
      "source": [],
      "metadata": {
        "id": "OWZuK6EDB0tX"
      },
      "execution_count": 4,
      "outputs": []
    },
    {
      "cell_type": "markdown",
      "source": [
        "# Open the Video File"
      ],
      "metadata": {
        "id": "9p-YjkpTB4Mf"
      }
    },
    {
      "cell_type": "code",
      "source": [
        "import cv2\n",
        "\n",
        "# video file open\n",
        "cap = cv2.VideoCapture(video_path)\n",
        "\n",
        "# Check vidio file opened one not sucessly\n",
        "if not cap.isOpened():\n",
        "    print(f\"Error: Cannot open video file {video_path}\")\n",
        "else:\n",
        "    print(f\"Video file {video_path} opened successfully.\")\n"
      ],
      "metadata": {
        "id": "718FLmwLB6AY",
        "colab": {
          "base_uri": "https://localhost:8080/"
        },
        "outputId": "81cf965f-c7eb-4098-d8b7-727f7d1f8fd7"
      },
      "execution_count": 5,
      "outputs": [
        {
          "output_type": "stream",
          "name": "stdout",
          "text": [
            "Video file /content/test_video.mp4 opened successfully.\n"
          ]
        }
      ]
    },
    {
      "cell_type": "markdown",
      "source": [
        "Setup the Output Video Writer"
      ],
      "metadata": {
        "id": "K-JwbdgCGqdk"
      }
    },
    {
      "cell_type": "code",
      "source": [
        "# video properties  width, height, and frames per second (fps)\n",
        "frame_width = int(cap.get(cv2.CAP_PROP_FRAME_WIDTH))\n",
        "frame_height = int(cap.get(cv2.CAP_PROP_FRAME_HEIGHT))\n",
        "fps = int(cap.get(cv2.CAP_PROP_FPS))"
      ],
      "metadata": {
        "id": "9XbhIECoGsnY"
      },
      "execution_count": 6,
      "outputs": []
    },
    {
      "cell_type": "code",
      "source": [
        "#  output variable path\n",
        "output_path = \"/content/output_dlib_faces.mp4\""
      ],
      "metadata": {
        "id": "6k8YU60TGvjx"
      },
      "execution_count": 7,
      "outputs": []
    },
    {
      "cell_type": "code",
      "source": [
        "#   save video\n",
        "fourcc = cv2.VideoWriter_fourcc(*'mp4v')\n",
        "out = cv2.VideoWriter(output_path, fourcc, fps, (frame_width, frame_height))"
      ],
      "metadata": {
        "id": "-EOmdJpyGymH"
      },
      "execution_count": 8,
      "outputs": []
    },
    {
      "cell_type": "code",
      "source": [
        "if not out.isOpened():\n",
        "    print(f\"Error: Cannot write to the video file {output_path}\")\n",
        "else:\n",
        "    print(f\"Output video file {output_path} initialized.\")"
      ],
      "metadata": {
        "id": "VwC7fD1NG0My",
        "colab": {
          "base_uri": "https://localhost:8080/"
        },
        "outputId": "e86bf91c-73f9-497a-bbba-04bc3132d2a7"
      },
      "execution_count": 9,
      "outputs": [
        {
          "output_type": "stream",
          "name": "stdout",
          "text": [
            "Output video file /content/output_dlib_faces.mp4 initialized.\n"
          ]
        }
      ]
    },
    {
      "cell_type": "markdown",
      "source": [
        "Load the dlib Face Detector"
      ],
      "metadata": {
        "id": "i1Y1EwKuG26G"
      }
    },
    {
      "cell_type": "code",
      "source": [
        "import dlib\n",
        "\n",
        "# load model\n",
        "detector = dlib.get_frontal_face_detector()\n"
      ],
      "metadata": {
        "id": "--koNdT5G1qg"
      },
      "execution_count": 10,
      "outputs": []
    },
    {
      "cell_type": "code",
      "source": [
        "# Process each frame in the video\n",
        "while cap.isOpened():\n",
        "    ret, frame = cap.read()\n",
        "\n",
        "    if not ret:\n",
        "        print(\"End of video or cannot read frame.\")\n",
        "        break\n",
        "\n",
        "    # Convert frame to grayscale\n",
        "    gray_frame = cv2.cvtColor(frame, cv2.COLOR_BGR2GRAY)\n",
        "\n",
        "    # face detection on the grayscale frame\n",
        "    faces = detector(gray_frame)\n",
        "\n",
        "    #  bounding boxes  draw around tthe faces\n",
        "    for face in faces:\n",
        "        x, y, w, h = face.left(), face.top(), face.width(), face.height()\n",
        "        cv2.rectangle(frame, (x, y), (x + w, y + h), (0, 255, 0), 2)\n",
        "\n",
        "    # processed frame to the output video\n",
        "    out.write(frame)\n"
      ],
      "metadata": {
        "id": "rCTvftLFG5rt",
        "colab": {
          "base_uri": "https://localhost:8080/"
        },
        "outputId": "c2a3145c-b2c7-434e-bdf7-3a037b7e0dc5"
      },
      "execution_count": 11,
      "outputs": [
        {
          "output_type": "stream",
          "name": "stdout",
          "text": [
            "End of video or cannot read frame.\n"
          ]
        }
      ]
    },
    {
      "cell_type": "code",
      "source": [],
      "metadata": {
        "id": "-0sNj6WLG5oK"
      },
      "execution_count": 11,
      "outputs": []
    },
    {
      "cell_type": "markdown",
      "source": [
        "Release Resources"
      ],
      "metadata": {
        "id": "lCyhUXerG8bm"
      }
    },
    {
      "cell_type": "code",
      "source": [
        "# Release video resources\n",
        "cap.release()\n",
        "out.release()\n",
        "cv2.destroyAllWindows()\n",
        "\n",
        "print(\"Video processing completed.\")\n"
      ],
      "metadata": {
        "id": "1UC3OPUKG-ej",
        "colab": {
          "base_uri": "https://localhost:8080/"
        },
        "outputId": "6b205e58-e58c-4d2d-b117-32350aa7856b"
      },
      "execution_count": 12,
      "outputs": [
        {
          "output_type": "stream",
          "name": "stdout",
          "text": [
            "Video processing completed.\n"
          ]
        }
      ]
    },
    {
      "cell_type": "markdown",
      "source": [
        "download the Processed Video"
      ],
      "metadata": {
        "id": "UELjRvEGHEHy"
      }
    },
    {
      "cell_type": "code",
      "source": [
        "from google.colab import files\n",
        "\n",
        "# cheaking video exists and download it\n",
        "if os.path.exists(output_path):\n",
        "    print(\"Processed video saved successfully. Downloading now...\")\n",
        "    files.download(output_path)\n",
        "else:\n",
        "    print(\"Error: Processed video file not found.\")\n"
      ],
      "metadata": {
        "id": "c5gLjixGHCQS",
        "colab": {
          "base_uri": "https://localhost:8080/",
          "height": 34
        },
        "outputId": "4c01976b-3260-4f59-e773-c03d61a34ca0"
      },
      "execution_count": 13,
      "outputs": [
        {
          "output_type": "stream",
          "name": "stdout",
          "text": [
            "Processed video saved successfully. Downloading now...\n"
          ]
        },
        {
          "output_type": "display_data",
          "data": {
            "text/plain": [
              "<IPython.core.display.Javascript object>"
            ],
            "application/javascript": [
              "\n",
              "    async function download(id, filename, size) {\n",
              "      if (!google.colab.kernel.accessAllowed) {\n",
              "        return;\n",
              "      }\n",
              "      const div = document.createElement('div');\n",
              "      const label = document.createElement('label');\n",
              "      label.textContent = `Downloading \"${filename}\": `;\n",
              "      div.appendChild(label);\n",
              "      const progress = document.createElement('progress');\n",
              "      progress.max = size;\n",
              "      div.appendChild(progress);\n",
              "      document.body.appendChild(div);\n",
              "\n",
              "      const buffers = [];\n",
              "      let downloaded = 0;\n",
              "\n",
              "      const channel = await google.colab.kernel.comms.open(id);\n",
              "      // Send a message to notify the kernel that we're ready.\n",
              "      channel.send({})\n",
              "\n",
              "      for await (const message of channel.messages) {\n",
              "        // Send a message to notify the kernel that we're ready.\n",
              "        channel.send({})\n",
              "        if (message.buffers) {\n",
              "          for (const buffer of message.buffers) {\n",
              "            buffers.push(buffer);\n",
              "            downloaded += buffer.byteLength;\n",
              "            progress.value = downloaded;\n",
              "          }\n",
              "        }\n",
              "      }\n",
              "      const blob = new Blob(buffers, {type: 'application/binary'});\n",
              "      const a = document.createElement('a');\n",
              "      a.href = window.URL.createObjectURL(blob);\n",
              "      a.download = filename;\n",
              "      div.appendChild(a);\n",
              "      a.click();\n",
              "      div.remove();\n",
              "    }\n",
              "  "
            ]
          },
          "metadata": {}
        },
        {
          "output_type": "display_data",
          "data": {
            "text/plain": [
              "<IPython.core.display.Javascript object>"
            ],
            "application/javascript": [
              "download(\"download_3c582f26-34b3-40d4-ab00-daa0e0d61cda\", \"output_dlib_faces.mp4\", 17160137)"
            ]
          },
          "metadata": {}
        }
      ]
    },
    {
      "cell_type": "markdown",
      "source": [
        "# download vidio\n",
        "https://drive.google.com/file/d/19IyWHeUNZdVQcd4muT6ZJ_Last9OLlC7/view?usp=sharing"
      ],
      "metadata": {
        "id": "TU9eioLe2mLv"
      }
    }
  ]
}